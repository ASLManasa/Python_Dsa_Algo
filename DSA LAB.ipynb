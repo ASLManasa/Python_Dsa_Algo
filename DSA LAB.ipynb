{
 "cells": [
  {
   "cell_type": "code",
   "execution_count": 3,
   "metadata": {},
   "outputs": [
    {
     "name": "stdout",
     "output_type": "stream",
     "text": [
      "Enter the base number..2\n",
      "Enter the exponential value..3\n",
      "Result: 8\n"
     ]
    }
   ],
   "source": [
    "def power(base,exp):\n",
    "    if(exp==1):\n",
    "        return(base)\n",
    "    if(exp!=1):\n",
    "        return (base*power(base,exp-1))\n",
    "base=int(input(\"Enter the base number..\"))\n",
    "exp=int(input(\"Enter the exponential value..\"))\n",
    "print(\"Result:\",power(base,exp))"
   ]
  },
  {
   "cell_type": "code",
   "execution_count": 1,
   "metadata": {},
   "outputs": [
    {
     "name": "stdout",
     "output_type": "stream",
     "text": [
      "Element found at index:  3\n"
     ]
    }
   ],
   "source": [
    "def linearSearch(array, n, x):\n",
    "    for i in range(0, n):\n",
    "        if (array[i] == x):\n",
    "            return i\n",
    "    return -1\n",
    "\n",
    "\n",
    "array = [2, 4, 0, 1, 9]\n",
    "x = 1\n",
    "n = len(array)\n",
    "result = linearSearch(array, n, x)\n",
    "if(result == -1):\n",
    "    print(\"Element not found\")\n",
    "else:\n",
    "    print(\"Element found at index: \", result)"
   ]
  },
  {
   "cell_type": "code",
   "execution_count": 2,
   "metadata": {},
   "outputs": [
    {
     "name": "stdout",
     "output_type": "stream",
     "text": [
      "Element is present at index 4\n"
     ]
    }
   ],
   "source": [
    "def binary_search(list1, n):  \n",
    "    low = 0  \n",
    "    high = len(list1) - 1  \n",
    "    mid = 0  \n",
    "  \n",
    "    while low <= high:  \n",
    "        \n",
    "        mid = (high + low) // 2  \n",
    "  \n",
    "       \n",
    "        if list1[mid] < n:  \n",
    "            low = mid + 1  \n",
    "  \n",
    "       \n",
    "        elif list1[mid] > n:  \n",
    "            high = mid - 1  \n",
    "  \n",
    "       \n",
    "        else:  \n",
    "            return mid  \n",
    "  \n",
    "            \n",
    "    return -1  \n",
    "  \n",
    "  \n",
    "\n",
    "list1 = [12, 24, 32, 39, 45, 50, 54]  \n",
    "n = 45  \n",
    "  \n",
    "result = binary_search(list1, n)  \n",
    "  \n",
    "if result != -1:  \n",
    "    print(\"Element is present at index\", str(result))  \n",
    "else:  \n",
    "    print(\"Element is not present in list1\")  "
   ]
  },
  {
   "cell_type": "code",
   "execution_count": 5,
   "metadata": {},
   "outputs": [
    {
     "name": "stdout",
     "output_type": "stream",
     "text": [
      "Sum of the elements in the given array is 44\n"
     ]
    }
   ],
   "source": [
    "def linear_sum(arr,n):\n",
    "    if n<=0:\n",
    "        return 0\n",
    "    return linear_sum(arr,n-1)+arr[n-1]\n",
    "arr = [22,12,3,2,1,4]\n",
    "result = linear_sum(arr,len(arr))\n",
    "print(\"Sum of the elements in the given array is\",result)"
   ]
  },
  {
   "cell_type": "code",
   "execution_count": 6,
   "metadata": {},
   "outputs": [
    {
     "name": "stdout",
     "output_type": "stream",
     "text": [
      "[1, 2, 3, 7, 10, 14, 23, 44, 48, 57, 58, 65, 74]\n"
     ]
    }
   ],
   "source": [
    "def merge_sort(list1, left_index, right_index):  \n",
    "    if left_index >= right_index:  \n",
    "        return  \n",
    "  \n",
    "    middle = (left_index + right_index)//2  \n",
    "    merge_sort(list1, left_index, middle)  \n",
    "    merge_sort(list1, middle + 1, right_index)  \n",
    "    merge(list1, left_index, right_index, middle)  \n",
    "  \n",
    "  \n",
    "    \n",
    "def merge(list1, left_index, right_index, middle):  \n",
    "  \n",
    "  \n",
    "  \n",
    "    left_sublist = list1[left_index:middle + 1]  \n",
    "    right_sublist = list1[middle+1:right_index+1]  \n",
    "  \n",
    "    \n",
    "    left_sublist_index = 0  \n",
    "    right_sublist_index = 0  \n",
    "    sorted_index = left_index  \n",
    "  \n",
    "  \n",
    "    while left_sublist_index < len(left_sublist) and right_sublist_index < len(right_sublist):  \n",
    "  \n",
    "        if left_sublist[left_sublist_index] <= right_sublist[right_sublist_index]:  \n",
    "            list1[sorted_index] = left_sublist[left_sublist_index]  \n",
    "            left_sublist_index = left_sublist_index + 1  \n",
    "      \n",
    "        else:  \n",
    "            list1[sorted_index] = right_sublist[right_sublist_index]  \n",
    "            right_sublist_index = right_sublist_index + 1  \n",
    "  \n",
    "  \n",
    "  \n",
    "        sorted_index = sorted_index + 1  \n",
    "  \n",
    "   \n",
    "    while left_sublist_index < len(left_sublist):  \n",
    "        list1[sorted_index] = left_sublist[left_sublist_index]  \n",
    "        left_sublist_index = left_sublist_index + 1  \n",
    "        sorted_index = sorted_index + 1  \n",
    "  \n",
    "    while right_sublist_index < len(right_sublist):  \n",
    "        list1[sorted_index] = right_sublist[right_sublist_index]  \n",
    "        right_sublist_index = right_sublist_index + 1  \n",
    "        sorted_index = sorted_index + 1  \n",
    "  \n",
    "list1 = [44, 65, 2, 3, 58, 14, 57, 23, 10, 1, 7, 74, 48]  \n",
    "merge_sort(list1, 0, len(list1) -1)  \n",
    "print(list1)  "
   ]
  },
  {
   "cell_type": "code",
   "execution_count": 7,
   "metadata": {},
   "outputs": [
    {
     "name": "stdout",
     "output_type": "stream",
     "text": [
      "no of elements5\n",
      "1\n",
      "3\n",
      "4\n",
      "0\n",
      "2\n",
      "Sorted array is:\n",
      "0\n",
      "1\n",
      "2\n",
      "3\n",
      "4\n"
     ]
    }
   ],
   "source": [
    "#bubble sort\n",
    "def bubble(arr):\n",
    "  n = len(arr)\n",
    "  for i in range(n-1):\n",
    "    for j in range(0,n-1):\n",
    "      if arr[j]>arr[j+1]:\n",
    "        arr[j],arr[j+1]=arr[j+1],arr[j]\n",
    "\n",
    "arr = []\n",
    "for i in range(int(input(\"no of elements\"))):\n",
    "  arr.append(int(input()))\n",
    "bubble(arr) \n",
    "print (\"Sorted array is:\") \n",
    "for i in range(len(arr)): \n",
    "    print (\"%d\" %arr[i]), \n",
    "\n",
    "\n",
    "\n",
    "\n",
    "    \n",
    "\n",
    "\n",
    "\n"
   ]
  },
  {
   "cell_type": "code",
   "execution_count": 8,
   "metadata": {},
   "outputs": [
    {
     "name": "stdout",
     "output_type": "stream",
     "text": [
      "no of elements4\n",
      "34\n",
      "43\n",
      "2\n",
      "1\n",
      "Sorted array is:\n",
      "1\n",
      "2\n",
      "34\n",
      "43\n"
     ]
    }
   ],
   "source": [
    "#selection  sort\n",
    "def selection(arr):\n",
    "  n = len(arr)\n",
    "  for i in range(n):\n",
    "    min = i\n",
    "    for j in range(i+1,n):\n",
    "      if arr[min]>arr[j]:\n",
    "        min =j\n",
    "      arr[i],arr[min]=arr[min],arr[i]\n",
    "\n",
    "arr = []\n",
    "for i in range(int(input(\"no of elements\"))):\n",
    "  arr.append(int(input()))\n",
    "selection(arr) \n",
    "print (\"Sorted array is:\") \n",
    "for i in range(len(arr)): \n",
    "    print (\"%d\" %arr[i]) \n",
    "\n",
    "\n"
   ]
  },
  {
   "cell_type": "code",
   "execution_count": 1,
   "metadata": {},
   "outputs": [
    {
     "name": "stdout",
     "output_type": "stream",
     "text": [
      "no of elements4\n",
      "1\n",
      "56\n",
      "43\n",
      "3\n",
      "Sorted array is:\n",
      "1\n",
      "3\n",
      "43\n",
      "56\n"
     ]
    }
   ],
   "source": [
    "def insertionSort(arr): \n",
    "    for i in range(1, len(arr)): \n",
    "  \n",
    "        key = arr[i] \n",
    "        j = i-1\n",
    "        while j >=0 and key < arr[j] : \n",
    "                arr[j+1] = arr[j] \n",
    "                j -= 1\n",
    "        arr[j+1] = key \n",
    "  \n",
    "  \n",
    "arr = []\n",
    "for i in range(int(input(\"no of elements\"))):\n",
    "  arr.append(int(input()))\n",
    "insertionSort(arr) \n",
    "print (\"Sorted array is:\") \n",
    "for i in range(len(arr)): \n",
    "    print (\"%d\" %arr[i]) "
   ]
  },
  {
   "cell_type": "code",
   "execution_count": 5,
   "metadata": {},
   "outputs": [
    {
     "name": "stdout",
     "output_type": "stream",
     "text": [
      "no of elements4\n",
      "32\n",
      "34\n",
      "32\n",
      "22\n",
      "Sorted array is:\n",
      "22\n",
      "32\n",
      "32\n",
      "34\n"
     ]
    }
   ],
   "source": [
    "def partition(arr, low, high): \n",
    "    i = (low-1)         \n",
    "    pivot = arr[high]      \n",
    "  \n",
    "    for j in range(low, high): \n",
    "  \n",
    "       \n",
    "        if arr[j] <= pivot: \n",
    "  \n",
    "            \n",
    "            i = i+1\n",
    "            arr[i], arr[j] = arr[j], arr[i] \n",
    "  \n",
    "    arr[i+1], arr[high] = arr[high], arr[i+1] \n",
    "    return (i+1) \n",
    "def quickSort(arr, low, high): \n",
    "    if len(arr) == 1: \n",
    "        return arr \n",
    "    if low < high: \n",
    "  \n",
    "      \n",
    "        pi = partition(arr, low, high) \n",
    "        quickSort(arr, low, pi-1) \n",
    "        quickSort(arr, pi+1, high) \n",
    "  \n",
    "\n",
    "arr = []\n",
    "for i in range(int(input(\"no of elements\"))):\n",
    "  arr.append(int(input()))\n",
    "n = len(arr) \n",
    "quickSort(arr, 0, n-1) \n",
    "print(\"Sorted array is:\") \n",
    "for i in range(n): \n",
    "    print(\"%d\" % arr[i]), "
   ]
  },
  {
   "cell_type": "code",
   "execution_count": null,
   "metadata": {},
   "outputs": [],
   "source": []
  },
  {
   "cell_type": "code",
   "execution_count": null,
   "metadata": {},
   "outputs": [],
   "source": []
  }
 ],
 "metadata": {
  "kernelspec": {
   "display_name": "Python 3",
   "language": "python",
   "name": "python3"
  },
  "language_info": {
   "codemirror_mode": {
    "name": "ipython",
    "version": 3
   },
   "file_extension": ".py",
   "mimetype": "text/x-python",
   "name": "python",
   "nbconvert_exporter": "python",
   "pygments_lexer": "ipython3",
   "version": "3.8.5"
  }
 },
 "nbformat": 4,
 "nbformat_minor": 4
}
